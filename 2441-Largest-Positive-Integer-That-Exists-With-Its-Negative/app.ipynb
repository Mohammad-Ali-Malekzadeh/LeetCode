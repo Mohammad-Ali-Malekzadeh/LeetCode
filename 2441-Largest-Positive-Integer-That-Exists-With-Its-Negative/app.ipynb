{
 "cells": [
  {
   "cell_type": "code",
   "execution_count": null,
   "metadata": {},
   "outputs": [],
   "source": [
    "class Solution:\n",
    "    def findMaxK(self, nums: List[int]) -> int:\n",
    "        for i in sorted([num for num in nums if num < 0]):\n",
    "            if -i in nums:\n",
    "                return -i\n",
    "        return -1"
   ]
  }
 ],
 "metadata": {
  "language_info": {
   "name": "python"
  }
 },
 "nbformat": 4,
 "nbformat_minor": 2
}
