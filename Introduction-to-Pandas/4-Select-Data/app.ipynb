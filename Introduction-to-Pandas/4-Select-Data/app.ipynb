{
 "cells": [
  {
   "cell_type": "code",
   "execution_count": 3,
   "metadata": {},
   "outputs": [],
   "source": [
    "import pandas as pd\n",
    "from datetime import datetime\n",
    "\n",
    "students = pd.read_csv('./students.csv')"
   ]
  },
  {
   "cell_type": "code",
   "execution_count": 5,
   "metadata": {},
   "outputs": [
    {
     "name": "stdout",
     "output_type": "stream",
     "text": [
      "      name  age\n",
      "0  Ulysses   13\n",
      "Duration: 0:00:00.002039\n"
     ]
    }
   ],
   "source": [
    "start_time = datetime.now()\n",
    "\n",
    "# Code ************ Start\n",
    "def selectData(students: pd.DataFrame) -> pd.DataFrame:\n",
    "    return students.loc[students[\"student_id\"] == 101, [\"name\", \"age\"]]\n",
    "# Code ************ End\n",
    "print(selectData(students))\n",
    "\n",
    "end_time = datetime.now()\n",
    "print('Duration: {}'.format(end_time - start_time))"
   ]
  },
  {
   "cell_type": "code",
   "execution_count": 7,
   "metadata": {},
   "outputs": [
    {
     "name": "stdout",
     "output_type": "stream",
     "text": [
      "      name  age\n",
      "0  Ulysses   13\n",
      "Duration: 0:00:00.003002\n"
     ]
    }
   ],
   "source": [
    "start_time = datetime.now()\n",
    "\n",
    "\n",
    "# Code ************ Start\n",
    "def selectData(students: pd.DataFrame) -> pd.DataFrame:\n",
    "    df = students[students[\"student_id\"] == 101]\n",
    "    return df[['name','age']]\n",
    "# Code ************ End\n",
    "print(selectData(students))\n",
    "\n",
    "end_time = datetime.now()\n",
    "print(\"Duration: {}\".format(end_time - start_time))"
   ]
  }
 ],
 "metadata": {
  "kernelspec": {
   "display_name": "Python 3",
   "language": "python",
   "name": "python3"
  },
  "language_info": {
   "codemirror_mode": {
    "name": "ipython",
    "version": 3
   },
   "file_extension": ".py",
   "mimetype": "text/x-python",
   "name": "python",
   "nbconvert_exporter": "python",
   "pygments_lexer": "ipython3",
   "version": "3.12.1"
  }
 },
 "nbformat": 4,
 "nbformat_minor": 2
}
