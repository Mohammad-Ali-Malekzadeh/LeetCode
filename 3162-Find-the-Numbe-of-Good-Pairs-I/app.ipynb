{
 "cells": [
  {
   "cell_type": "code",
   "execution_count": 1,
   "metadata": {},
   "outputs": [],
   "source": [
    "from datetime import datetime"
   ]
  },
  {
   "cell_type": "code",
   "execution_count": 2,
   "metadata": {},
   "outputs": [],
   "source": [
    "# Test Cases 1\n",
    "nums1 = [1,3,4]\n",
    "nums2 = [1,3,4]\n",
    "k= 1"
   ]
  },
  {
   "cell_type": "code",
   "execution_count": 3,
   "metadata": {},
   "outputs": [],
   "source": [
    "# Test Cases 2\n",
    "nums1 = [1,2,4,12]\n",
    "nums2 = [2,4]\n",
    "k= 3"
   ]
  },
  {
   "cell_type": "code",
   "execution_count": 4,
   "metadata": {},
   "outputs": [
    {
     "name": "stdout",
     "output_type": "stream",
     "text": [
      "2\n",
      "Duration: 0:00:00.000996\n"
     ]
    }
   ],
   "source": [
    "start_time = datetime.now()\n",
    "\n",
    "\n",
    "# Code ************ Start\n",
    "class Solution:\n",
    "    def numberOfPairs(nums1: list[int], nums2: list[int], k: int) -> int:\n",
    "        good_pairs = 0\n",
    "        nums1.reverse()\n",
    "        nums2.reverse()\n",
    "        for i in nums1:\n",
    "            for j in nums2:\n",
    "                if i % (j * k) == 0:\n",
    "                    good_pairs += 1\n",
    "        if good_pairs:\n",
    "            return good_pairs\n",
    "        else:\n",
    "            return 0\n",
    "# Code ************ End\n",
    "print(Solution.numberOfPairs(nums1,nums2,k))\n",
    "\n",
    "end_time = datetime.now()\n",
    "print('Duration: {}'.format(end_time - start_time))"
   ]
  },
  {
   "cell_type": "code",
   "execution_count": null,
   "metadata": {},
   "outputs": [],
   "source": []
  }
 ],
 "metadata": {
  "kernelspec": {
   "display_name": "Python 3",
   "language": "python",
   "name": "python3"
  },
  "language_info": {
   "codemirror_mode": {
    "name": "ipython",
    "version": 3
   },
   "file_extension": ".py",
   "mimetype": "text/x-python",
   "name": "python",
   "nbconvert_exporter": "python",
   "pygments_lexer": "ipython3",
   "version": "3.12.1"
  }
 },
 "nbformat": 4,
 "nbformat_minor": 2
}
