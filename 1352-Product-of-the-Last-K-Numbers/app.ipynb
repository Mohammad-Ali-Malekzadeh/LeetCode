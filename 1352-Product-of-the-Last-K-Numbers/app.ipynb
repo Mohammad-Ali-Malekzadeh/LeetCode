{
 "cells": [
  {
   "cell_type": "code",
   "execution_count": 1,
   "metadata": {},
   "outputs": [],
   "source": [
    "from datetime import datetime"
   ]
  },
  {
   "cell_type": "code",
   "execution_count": 2,
   "metadata": {},
   "outputs": [],
   "source": [
    "action = [\"ProductOfNumbers\",\"add\",\"add\",\"add\",\"add\",\"add\",\"getProduct\",\"getProduct\",\"getProduct\",\"add\",\"getProduct\"]\n",
    "nums = [[],[3],[0],[2],[5],[4],[2],[3],[4],[8],[2]]"
   ]
  },
  {
   "cell_type": "code",
   "execution_count": 17,
   "metadata": {},
   "outputs": [
    {
     "name": "stdout",
     "output_type": "stream",
     "text": [
      "[None, None, None, None, None, None, 20, 40, 0, None, 32]\n",
      "Duration: 0:00:00\n"
     ]
    }
   ],
   "source": [
    "import itertools \n",
    "start_time = datetime.now()\n",
    "\n",
    "# Code ************ Start\n",
    "# Explanation-Enhanced Solution for Product of Last K Numbers\n",
    "class ProductOfNumbers:\n",
    "    def __init__(self):\n",
    "        # Initializes a list to store prefix products, starting with 1.\n",
    "        self.prefix_products = [1]\n",
    "\n",
    "    def add(self, num: int) -> None:\n",
    "        # If the number is zero, reset the prefix list to handle zero products.\n",
    "        if num == 0:\n",
    "            self.prefix_products = [1]\n",
    "        else:\n",
    "            # Append the product of the new number and the last prefix product.\n",
    "            self.prefix_products.append(self.prefix_products[-1] * num)\n",
    "\n",
    "    def getProduct(self, k: int) -> int:\n",
    "        # If k is longer than the prefix list, return 0 (implies a zero in the sequence).\n",
    "        if k >= len(self.prefix_products):\n",
    "            return 0\n",
    "        # Return the division of the last prefix by the prefix k steps back.\n",
    "        return self.prefix_products[-1] // self.prefix_products[-1 - k]\n",
    "# Code ************ End\n",
    "\n",
    "obj = ProductOfNumbers()\n",
    "result = []\n",
    "for (i, j) in zip(action, nums):\n",
    "    if i == 'getProduct':result.append(obj.getProduct(j[0]))\n",
    "    elif i == 'add': result.append(obj.add(j[0]))\n",
    "    else: result.append(None)\n",
    "    \n",
    "print(result)\n",
    "\n",
    "end_time = datetime.now()\n",
    "print('Duration: {}'.format(end_time - start_time))"
   ]
  }
 ],
 "metadata": {
  "kernelspec": {
   "display_name": "Python 3",
   "language": "python",
   "name": "python3"
  },
  "language_info": {
   "codemirror_mode": {
    "name": "ipython",
    "version": 3
   },
   "file_extension": ".py",
   "mimetype": "text/x-python",
   "name": "python",
   "nbconvert_exporter": "python",
   "pygments_lexer": "ipython3",
   "version": "3.12.1"
  }
 },
 "nbformat": 4,
 "nbformat_minor": 2
}
