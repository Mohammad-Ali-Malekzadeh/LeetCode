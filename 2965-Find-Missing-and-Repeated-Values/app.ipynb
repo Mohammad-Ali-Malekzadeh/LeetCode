{
 "cells": [
  {
   "cell_type": "code",
   "execution_count": 1,
   "metadata": {},
   "outputs": [],
   "source": [
    "from datetime import datetime"
   ]
  },
  {
   "cell_type": "code",
   "execution_count": 2,
   "metadata": {},
   "outputs": [],
   "source": [
    "# Test Cases 1\n",
    "grid = [[1,3],[2,2]]"
   ]
  },
  {
   "cell_type": "code",
   "execution_count": 3,
   "metadata": {},
   "outputs": [],
   "source": [
    "# Test Cases 2\n",
    "grid = [[9,1,7],[8,9,2],[3,4,6]]"
   ]
  },
  {
   "cell_type": "code",
   "execution_count": 4,
   "metadata": {},
   "outputs": [
    {
     "name": "stdout",
     "output_type": "stream",
     "text": [
      "[9, 5]\n",
      "Duration: 0:00:00.000996\n"
     ]
    }
   ],
   "source": [
    "start_time = datetime.now()\n",
    "\n",
    "# Code ************ Start\n",
    "from collections import Counter\n",
    "\n",
    "class Solution:\n",
    "    def findMissingAndRepeatedValues(grid):\n",
    "        n = len(grid)\n",
    "        nums = [num for row in grid for num in row]  # Make the matrix one-dimensional.\n",
    "        count = Counter(nums)  # Counting the number of repetitions of numbers\n",
    "        \n",
    "        repeated = missing = -1\n",
    "        for num in range(1, n * n + 1):  # Check all numbers from 1 to n²\n",
    "            if count[num] == 2:\n",
    "                repeated = num\n",
    "            if count[num] == 0:\n",
    "                missing = num\n",
    "                \n",
    "        return [repeated, missing]\n",
    "\n",
    "# Code ************ End\n",
    "print(Solution.findMissingAndRepeatedValues(grid))\n",
    "\n",
    "\n",
    "end_time = datetime.now()\n",
    "print('Duration: {}'.format(end_time - start_time))"
   ]
  },
  {
   "cell_type": "code",
   "execution_count": null,
   "metadata": {},
   "outputs": [],
   "source": []
  }
 ],
 "metadata": {
  "kernelspec": {
   "display_name": "Python 3",
   "language": "python",
   "name": "python3"
  },
  "language_info": {
   "codemirror_mode": {
    "name": "ipython",
    "version": 3
   },
   "file_extension": ".py",
   "mimetype": "text/x-python",
   "name": "python",
   "nbconvert_exporter": "python",
   "pygments_lexer": "ipython3",
   "version": "3.12.1"
  }
 },
 "nbformat": 4,
 "nbformat_minor": 2
}
