{
 "cells": [
  {
   "cell_type": "code",
   "execution_count": 1,
   "metadata": {},
   "outputs": [],
   "source": [
    "from datetime import datetime"
   ]
  },
  {
   "cell_type": "code",
   "execution_count": 8,
   "metadata": {},
   "outputs": [],
   "source": [
    "# Test Cases 1\n",
    "s = [\"h\",\"e\",\"l\",\"l\",\"o\"]"
   ]
  },
  {
   "cell_type": "code",
   "execution_count": 9,
   "metadata": {},
   "outputs": [],
   "source": [
    "# Test Cases 2\n",
    "s = [\"H\",\"a\",\"n\",\"n\",\"a\",\"h\"]"
   ]
  },
  {
   "cell_type": "code",
   "execution_count": 11,
   "metadata": {},
   "outputs": [
    {
     "name": "stdout",
     "output_type": "stream",
     "text": [
      "['h', 'a', 'n', 'n', 'a', 'H']\n",
      "Duration: 0:00:00\n"
     ]
    }
   ],
   "source": [
    "#! V1 - 205 ms 💔\n",
    "#? .reverse() python builtin mehton is used in this solution\n",
    "\n",
    "start_time = datetime.now()\n",
    "\n",
    "# Code ************ Start\n",
    "class Solution:\n",
    "    def reverseString(s: list[str]) -> None:\n",
    "        return s.reverse()\n",
    "# Code ************ End\n",
    "print(s)\n",
    "\n",
    "end_time = datetime.now()\n",
    "print('Duration: {}'.format(end_time - start_time))"
   ]
  },
  {
   "cell_type": "code",
   "execution_count": null,
   "metadata": {},
   "outputs": [],
   "source": [
    "#! V2 - 961 ms 🥲\n",
    "#? Loop on the list. add the first index on the end of the array then delete it.\n",
    "\n",
    "start_time = datetime.now()\n",
    "\n",
    "# Code ************ Start\n",
    "class Solution:\n",
    "    def reverseString(s: list[str]) -> None:\n",
    "        for i in range(len(s)):\n",
    "            if i == 0:\n",
    "                s.insert(len(s), s[0])\n",
    "            else:\n",
    "                s.insert(-1 - (i -1), s[0])\n",
    "            s.pop(0)\n",
    "        return s\n",
    "# Code ************ End\n",
    "print(s)\n",
    "\n",
    "end_time = datetime.now()\n",
    "print('Duration: {}'.format(end_time - start_time))"
   ]
  },
  {
   "cell_type": "code",
   "execution_count": null,
   "metadata": {},
   "outputs": [],
   "source": [
    "#! V3 - Not accept in Site\n",
    "#? String[x::y] Used\n",
    "\n",
    "start_time = datetime.now()\n",
    "\n",
    "# Code ************ Start\n",
    "class Solution:\n",
    "    def reverseString(s: list[str]) -> None:\n",
    "        string = ''\n",
    "        for i in s:\n",
    "            string += i\n",
    "        return list(string[::-1])\n",
    "# Code ************ End\n",
    "print(s)\n",
    "\n",
    "end_time = datetime.now()\n",
    "print('Duration: {}'.format(end_time - start_time))"
   ]
  },
  {
   "cell_type": "code",
   "execution_count": null,
   "metadata": {},
   "outputs": [],
   "source": [
    "#! V4 - Not accept in Site\n",
    "#? List[x::y] Used\n",
    "\n",
    "start_time = datetime.now()\n",
    "\n",
    "# Code ************ Start\n",
    "class Solution:\n",
    "    def reverseString(s: list[str]) -> None:\n",
    "        print(s[::-1])\n",
    "# Code ************ End\n",
    "print(s)\n",
    "\n",
    "end_time = datetime.now()\n",
    "print('Duration: {}'.format(end_time - start_time))"
   ]
  }
 ],
 "metadata": {
  "kernelspec": {
   "display_name": "Python 3",
   "language": "python",
   "name": "python3"
  },
  "language_info": {
   "codemirror_mode": {
    "name": "ipython",
    "version": 3
   },
   "file_extension": ".py",
   "mimetype": "text/x-python",
   "name": "python",
   "nbconvert_exporter": "python",
   "pygments_lexer": "ipython3",
   "version": "3.12.1"
  }
 },
 "nbformat": 4,
 "nbformat_minor": 2
}
