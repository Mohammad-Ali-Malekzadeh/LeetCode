{
 "cells": [
  {
   "cell_type": "code",
   "execution_count": 5,
   "metadata": {},
   "outputs": [],
   "source": [
    "from datetime import datetime"
   ]
  },
  {
   "cell_type": "code",
   "execution_count": 9,
   "metadata": {},
   "outputs": [],
   "source": [
    "# Test Cases 1\n",
    "nums1 = [1,2,3,0,0,0]\n",
    "m = 3\n",
    "nums2 = [2,5,6]\n",
    "n = 3"
   ]
  },
  {
   "cell_type": "code",
   "execution_count": 2,
   "metadata": {},
   "outputs": [],
   "source": [
    "# Test Cases 2\n",
    "nums1 = [1]\n",
    "m = 1\n",
    "nums2 = []\n",
    "n = 0"
   ]
  },
  {
   "cell_type": "code",
   "execution_count": 3,
   "metadata": {},
   "outputs": [],
   "source": [
    "# Test Cases 3\n",
    "nums1 = [0]\n",
    "m = 0\n",
    "nums2 = [1]\n",
    "n = 1"
   ]
  },
  {
   "cell_type": "code",
   "execution_count": 10,
   "metadata": {},
   "outputs": [
    {
     "name": "stdout",
     "output_type": "stream",
     "text": [
      "[1, 2, 2, 3, 5, 6]\n",
      "Duration: 0:00:00.000996\n"
     ]
    }
   ],
   "source": [
    "start_time = datetime.now()\n",
    "\n",
    "\n",
    "# Code ************ Start\n",
    "class Solution:\n",
    "    def merge(nums1: list[int], m: int, nums2: list[int], n: int) -> None:\n",
    "        a = m-1\n",
    "        b = n-1\n",
    "        c = m+n-1\n",
    "        while c >= 0:\n",
    "            if b == -1:\n",
    "                # First Condition\n",
    "                pass\n",
    "            elif a == -1:\n",
    "                #  Second Condition\n",
    "                nums1[c] = nums2[b]\n",
    "                b -= 1\n",
    "            elif nums2[b] > nums1[a]:\n",
    "                # Third Condition\n",
    "                nums1[c] = nums2[b]\n",
    "                b -= 1\n",
    "            elif nums1[a] > nums2[b]:\n",
    "                # Fourth Condition\n",
    "                nums1[c] = nums1[a]\n",
    "                a -= 1\n",
    "            else:\n",
    "                # Fifth Condition\n",
    "                nums1[c] = nums1[a]\n",
    "                a -= 1\n",
    "            c -= 1\n",
    "# Code ************ End\n",
    "Solution.merge(nums1,m,nums2,n)\n",
    "print(nums1)\n",
    "\n",
    "end_time = datetime.now()\n",
    "print('Duration: {}'.format(end_time - start_time))"
   ]
  },
  {
   "cell_type": "markdown",
   "metadata": {},
   "source": [
    "<img src=\"https://assets.leetcode.com/users/images/dd3ae870-b4c5-4144-87ef-42fcababeeb9_1713537467.2286813.png\">"
   ]
  },
  {
   "cell_type": "markdown",
   "metadata": {},
   "source": []
  }
 ],
 "metadata": {
  "kernelspec": {
   "display_name": "Python 3",
   "language": "python",
   "name": "python3"
  },
  "language_info": {
   "codemirror_mode": {
    "name": "ipython",
    "version": 3
   },
   "file_extension": ".py",
   "mimetype": "text/x-python",
   "name": "python",
   "nbconvert_exporter": "python",
   "pygments_lexer": "ipython3",
   "version": "3.12.1"
  }
 },
 "nbformat": 4,
 "nbformat_minor": 2
}
