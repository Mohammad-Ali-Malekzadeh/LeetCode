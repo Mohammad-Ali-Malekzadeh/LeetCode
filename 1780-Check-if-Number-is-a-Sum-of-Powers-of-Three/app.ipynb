{
 "cells": [
  {
   "cell_type": "code",
   "execution_count": 6,
   "metadata": {},
   "outputs": [],
   "source": [
    "from datetime import datetime"
   ]
  },
  {
   "cell_type": "code",
   "execution_count": 7,
   "metadata": {},
   "outputs": [],
   "source": [
    "# Test Cases 1  \n",
    "n = 12"
   ]
  },
  {
   "cell_type": "code",
   "execution_count": 8,
   "metadata": {},
   "outputs": [],
   "source": [
    "# Test Cases 2  \n",
    "n = 91"
   ]
  },
  {
   "cell_type": "code",
   "execution_count": 9,
   "metadata": {},
   "outputs": [],
   "source": [
    "# Test Cases 3\n",
    "n = 21"
   ]
  },
  {
   "cell_type": "code",
   "execution_count": 10,
   "metadata": {},
   "outputs": [
    {
     "name": "stdout",
     "output_type": "stream",
     "text": [
      "False\n",
      "Duration: 0:00:00.002111\n"
     ]
    }
   ],
   "source": [
    "import itertools \n",
    "start_time = datetime.now()\n",
    "\n",
    "# Code ************ Start\n",
    "class Solution:\n",
    "    def checkPowersOfThree(n: int) -> bool:\n",
    "        while n > 0:\n",
    "            if n % 3 == 2:\n",
    "                return False\n",
    "            n //= 3\n",
    "        return True\n",
    "# Code ************ End\n",
    "print(Solution.checkPowersOfThree(n))\n",
    "\n",
    "end_time = datetime.now()\n",
    "print('Duration: {}'.format(end_time - start_time))"
   ]
  }
 ],
 "metadata": {
  "kernelspec": {
   "display_name": "Python 3",
   "language": "python",
   "name": "python3"
  },
  "language_info": {
   "codemirror_mode": {
    "name": "ipython",
    "version": 3
   },
   "file_extension": ".py",
   "mimetype": "text/x-python",
   "name": "python",
   "nbconvert_exporter": "python",
   "pygments_lexer": "ipython3",
   "version": "3.12.1"
  }
 },
 "nbformat": 4,
 "nbformat_minor": 2
}
