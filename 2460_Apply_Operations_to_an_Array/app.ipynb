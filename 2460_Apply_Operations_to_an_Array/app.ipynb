{
 "cells": [
  {
   "cell_type": "code",
   "execution_count": 1,
   "metadata": {},
   "outputs": [],
   "source": [
    "from datetime import datetime"
   ]
  },
  {
   "cell_type": "code",
   "execution_count": 2,
   "metadata": {},
   "outputs": [],
   "source": [
    "# Test Cases 1\n",
    "nums = [1,2,2,1,1,0]"
   ]
  },
  {
   "cell_type": "code",
   "execution_count": 3,
   "metadata": {},
   "outputs": [],
   "source": [
    "# Test Cases 2\n",
    "nums = [0,1]"
   ]
  },
  {
   "cell_type": "code",
   "execution_count": 4,
   "metadata": {},
   "outputs": [],
   "source": [
    "# Test Cases 3\n",
    "nums = [847,847,0,0,0,399,416,416,879,879,206,206,206,272]"
   ]
  },
  {
   "cell_type": "code",
   "execution_count": 5,
   "metadata": {},
   "outputs": [
    {
     "name": "stdout",
     "output_type": "stream",
     "text": [
      "[1694, 399, 832, 1758, 412, 206, 272, 0, 0, 0, 0, 0, 0, 0]\n",
      "Duration: 0:00:00.001262\n"
     ]
    }
   ],
   "source": [
    "start_time = datetime.now()\n",
    "\n",
    "\n",
    "# Code ************ Start\n",
    "from typing import List\n",
    "class Solution:\n",
    "    def applyOperations(nums: List[int]) -> List[int]:\n",
    "        # انجام عملیات اولیه روی آرایه\n",
    "        for i in range(len(nums) - 1):\n",
    "            if nums[i] == nums[i + 1]:\n",
    "                nums[i] *= 2\n",
    "                nums[i + 1] = 0\n",
    "\n",
    "        # فیلتر کردن صفرها و اضافه کردن آن‌ها به انتها\n",
    "        non_zero_nums = [num for num in nums if num != 0]\n",
    "        zero_count = len(nums) - len(non_zero_nums)\n",
    "        return non_zero_nums + [0] * zero_count\n",
    "\n",
    "# Code ************ End\n",
    "print(Solution.applyOperations(nums))\n",
    "\n",
    "end_time = datetime.now()\n",
    "print('Duration: {}'.format(end_time - start_time))"
   ]
  }
 ],
 "metadata": {
  "kernelspec": {
   "display_name": "Python 3",
   "language": "python",
   "name": "python3"
  },
  "language_info": {
   "codemirror_mode": {
    "name": "ipython",
    "version": 3
   },
   "file_extension": ".py",
   "mimetype": "text/x-python",
   "name": "python",
   "nbconvert_exporter": "python",
   "pygments_lexer": "ipython3",
   "version": "3.12.1"
  }
 },
 "nbformat": 4,
 "nbformat_minor": 2
}
