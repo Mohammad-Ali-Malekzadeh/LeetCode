{
 "cells": [
  {
   "cell_type": "code",
   "execution_count": null,
   "metadata": {},
   "outputs": [],
   "source": [
    "import pandas as pd\n",
    "\n",
    "def renameColumns(students: pd.DataFrame) -> pd.DataFrame:\n",
    "    students = students.rename(\n",
    "        columns={\n",
    "            \"id\": \"student_id\",\n",
    "            \"first\": \"first_name\",\n",
    "            \"last\": \"last_name\",\n",
    "            \"age\": \"age_in_years\",\n",
    "        }\n",
    "    )\n",
    "    return students"
   ]
  }
 ],
 "metadata": {
  "language_info": {
   "name": "python"
  }
 },
 "nbformat": 4,
 "nbformat_minor": 2
}
