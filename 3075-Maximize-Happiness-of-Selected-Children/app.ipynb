{
 "cells": [
  {
   "cell_type": "code",
   "execution_count": null,
   "metadata": {},
   "outputs": [],
   "source": [
    "from datetime import datetime"
   ]
  },
  {
   "cell_type": "code",
   "execution_count": null,
   "metadata": {},
   "outputs": [],
   "source": [
    "# Test Cases 1\n",
    "happiness = [1,2,3]\n",
    "k = 2"
   ]
  },
  {
   "cell_type": "code",
   "execution_count": null,
   "metadata": {},
   "outputs": [],
   "source": [
    "# Test Cases 2\n",
    "happiness = [1,1,1,1]\n",
    "k = 2"
   ]
  },
  {
   "cell_type": "code",
   "execution_count": null,
   "metadata": {},
   "outputs": [],
   "source": [
    "# Test Cases 3\n",
    "happiness = [2,3,4,5]\n",
    "k = 2"
   ]
  },
  {
   "cell_type": "code",
   "execution_count": null,
   "metadata": {},
   "outputs": [],
   "source": [
    "start_time = datetime.now()\n",
    "\n",
    "\n",
    "# Code ************ Start\n",
    "class Solution:\n",
    "    def maximumHappinessSum(happiness: list[int], k: int) -> int:\n",
    "            happiness.sort(reverse = True)\n",
    "            # 'i' defined for every element in happiness list. and subtract every element of their index.\n",
    "            i = 0\n",
    "            # result variable used for save picked k children\n",
    "            result = 0\n",
    "            while k > 0:\n",
    "                result += max(happiness[i] - i, 0)\n",
    "                i += 1\n",
    "                k -= 1\n",
    "            return result\n",
    "# Code ************ End\n",
    "print(Solution.maximumHappinessSum(happiness,k))\n",
    "\n",
    "end_time = datetime.now()\n",
    "print('Duration: {}'.format(end_time - start_time))"
   ]
  }
 ],
 "metadata": {
  "kernelspec": {
   "display_name": "Python 3",
   "language": "python",
   "name": "python3"
  },
  "language_info": {
   "codemirror_mode": {
    "name": "ipython",
    "version": 3
   },
   "file_extension": ".py",
   "mimetype": "text/x-python",
   "name": "python",
   "nbconvert_exporter": "python",
   "pygments_lexer": "ipython3",
   "version": "3.12.1"
  }
 },
 "nbformat": 4,
 "nbformat_minor": 2
}
