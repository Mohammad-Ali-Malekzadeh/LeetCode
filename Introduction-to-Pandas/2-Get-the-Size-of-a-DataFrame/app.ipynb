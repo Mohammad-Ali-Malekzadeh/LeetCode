{
 "cells": [
  {
   "cell_type": "code",
   "execution_count": null,
   "metadata": {},
   "outputs": [],
   "source": [
    "import pandas as pd\n",
    "\n",
    "def getDataframeSize(players: pd.DataFrame) -> list[int]:\n",
    "    return [players.shape[0], players.shape[1]]"
   ]
  }
 ],
 "metadata": {
  "language_info": {
   "name": "python"
  }
 },
 "nbformat": 4,
 "nbformat_minor": 2
}
