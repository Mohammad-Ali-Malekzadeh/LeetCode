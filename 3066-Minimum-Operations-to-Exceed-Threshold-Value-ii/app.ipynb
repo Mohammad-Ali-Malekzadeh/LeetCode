{
 "cells": [
  {
   "cell_type": "code",
   "execution_count": 1,
   "metadata": {},
   "outputs": [],
   "source": [
    "from datetime import datetime"
   ]
  },
  {
   "cell_type": "code",
   "execution_count": 2,
   "metadata": {},
   "outputs": [],
   "source": [
    "# Test Cases 1\n",
    "nums = [2,11,10,1,3]\n",
    "k = 10"
   ]
  },
  {
   "cell_type": "code",
   "execution_count": 3,
   "metadata": {},
   "outputs": [],
   "source": [
    "# Test Cases 2\n",
    "nums = [1,1,2,4,9]\n",
    "k = 20"
   ]
  },
  {
   "cell_type": "code",
   "execution_count": null,
   "metadata": {},
   "outputs": [
    {
     "name": "stdout",
     "output_type": "stream",
     "text": [
      "[1, 1, 2, 4, 9]\n",
      "4\n",
      "Duration: 0:00:00.001002\n"
     ]
    }
   ],
   "source": [
    "start_time = datetime.now()\n",
    "\n",
    "\n",
    "# Code ************ Start\n",
    "import heapq\n",
    "def minOperations(nums: list[int], k: int) -> int:\n",
    "    number_of_procces = 0\n",
    "    heapq.heapify(nums)\n",
    "    print(nums)\n",
    "    \n",
    "    while len(nums) > 1 and nums[0] < k:\n",
    "        x = heapq.heappop(nums)\n",
    "        y = heapq.heappop(nums)\n",
    "        new_number = min(x, y) * 2 + max(x, y)\n",
    "        heapq.heappush(nums, new_number)\n",
    "        number_of_procces += 1\n",
    "    \n",
    "    if nums[0] < k:\n",
    "        return -1 \n",
    "    \n",
    "    return number_of_procces\n",
    "# Code ************ End\n",
    "print(minOperations(nums,k))\n",
    "\n",
    "end_time = datetime.now()\n",
    "print('Duration: {}'.format(end_time - start_time))\n"
   ]
  },
  {
   "cell_type": "code",
   "execution_count": null,
   "metadata": {},
   "outputs": [],
   "source": []
  }
 ],
 "metadata": {
  "kernelspec": {
   "display_name": "Python 3",
   "language": "python",
   "name": "python3"
  },
  "language_info": {
   "codemirror_mode": {
    "name": "ipython",
    "version": 3
   },
   "file_extension": ".py",
   "mimetype": "text/x-python",
   "name": "python",
   "nbconvert_exporter": "python",
   "pygments_lexer": "ipython3",
   "version": "3.12.1"
  }
 },
 "nbformat": 4,
 "nbformat_minor": 2
}
