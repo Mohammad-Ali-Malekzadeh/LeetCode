{
 "cells": [
  {
   "cell_type": "code",
   "execution_count": null,
   "metadata": {},
   "outputs": [],
   "source": [
    "from datetime import datetime"
   ]
  },
  {
   "cell_type": "code",
   "execution_count": null,
   "metadata": {},
   "outputs": [],
   "source": [
    "# Test Cases 1\n",
    "g = [1,2,3]\n",
    "s = [1,1]"
   ]
  },
  {
   "cell_type": "code",
   "execution_count": null,
   "metadata": {},
   "outputs": [],
   "source": [
    "# Test Cases 2\n",
    "g = [1,2]\n",
    "s = [1,2,3]"
   ]
  },
  {
   "cell_type": "code",
   "execution_count": null,
   "metadata": {},
   "outputs": [],
   "source": [
    "# V1 - First, I sorted two arrays. Then, I iterated through the 'g' array. For each index in 'g', I iterated through the 's' array. If the 's' array element was equal to or greater than the 'g' array element, I incremented the result by 1. 555ms 🤦‍♂️\n",
    "start_time = datetime.now()\n",
    "\n",
    "\n",
    "# Code ************ Start\n",
    "class Solution:\n",
    "    def findContentChildren(g: list[int], s: list[int]) -> int:\n",
    "        result = 0\n",
    "        # Coockies\n",
    "        s = sorted(s)\n",
    "        # Kids\n",
    "        g = sorted(g)\n",
    "        for i in range(len(g)):\n",
    "            for j in range(len(s)):\n",
    "                if s[j] >= g[i]:\n",
    "                    s.pop(j)\n",
    "                    result += 1\n",
    "                    break\n",
    "        return result\n",
    "# Code ************ End\n",
    "print(Solution.findContentChildren(g,s))\n",
    "\n",
    "end_time = datetime.now()\n",
    "print('Duration: {}'.format(end_time - start_time))"
   ]
  },
  {
   "cell_type": "code",
   "execution_count": null,
   "metadata": {},
   "outputs": [],
   "source": [
    "# V2 -  130 ms 😎\n",
    "start_time = datetime.now()\n",
    "\n",
    "\n",
    "# Code ************ Start\n",
    "class Solution:\n",
    "    def findContentChildren(g: list[int], s: list[int]) -> int:\n",
    "        # Coockies\n",
    "        s.sort()\n",
    "        # Kids\n",
    "        g.sort()\n",
    "        \n",
    "        i, j = 0, 0\n",
    "        ans = 0\n",
    "        while i < len(g) and j < len(s):\n",
    "            if s[j] >= g[i]:\n",
    "                j += 1\n",
    "                i += 1\n",
    "                ans += 1\n",
    "            else:\n",
    "                j += 1\n",
    "        return ans\n",
    "# Code ************ End\n",
    "print(Solution.findContentChildren(g,s))\n",
    "\n",
    "end_time = datetime.now()\n",
    "print('Duration: {}'.format(end_time - start_time))"
   ]
  }
 ],
 "metadata": {
  "language_info": {
   "name": "python"
  }
 },
 "nbformat": 4,
 "nbformat_minor": 2
}
