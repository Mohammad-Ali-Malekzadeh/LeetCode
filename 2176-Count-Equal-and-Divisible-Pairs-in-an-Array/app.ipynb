{
 "cells": [
  {
   "cell_type": "code",
   "execution_count": 1,
   "metadata": {},
   "outputs": [],
   "source": [
    "from datetime import datetime"
   ]
  },
  {
   "cell_type": "code",
   "execution_count": 8,
   "metadata": {},
   "outputs": [],
   "source": [
    "# Test Cases 1  \n",
    "nums = [3, 1, 2, 2, 2, 1, 3]\n",
    "k = 2"
   ]
  },
  {
   "cell_type": "code",
   "execution_count": 3,
   "metadata": {},
   "outputs": [],
   "source": [
    "# Test Cases 2  \n",
    "nums = [1, 2, 3, 4]\n",
    "k = 1"
   ]
  },
  {
   "cell_type": "code",
   "execution_count": 9,
   "metadata": {},
   "outputs": [
    {
     "name": "stdout",
     "output_type": "stream",
     "text": [
      "4\n",
      "Duration: 0:00:00.001011\n"
     ]
    }
   ],
   "source": [
    "import itertools \n",
    "start_time = datetime.now()\n",
    "\n",
    "# Code ************ Start\n",
    "class Solution:\n",
    "    def countPairs(nums: list[int], k: int) -> int:\n",
    "        count = 0\n",
    "        n = len(nums)\n",
    "\n",
    "        # Iterate through all possible pairs (i, j) where i < j\n",
    "        for i in range(n):\n",
    "            for j in range(i + 1, n):\n",
    "                # Check if nums[i] equals nums[j] and (i * j) is divisible by k\n",
    "                if nums[i] == nums[j] and (i * j) % k == 0:\n",
    "                    count += 1\n",
    "\n",
    "        return count\n",
    "# Code ************ End\n",
    "print(Solution.countPairs(nums,k))\n",
    "\n",
    "end_time = datetime.now()\n",
    "print('Duration: {}'.format(end_time - start_time))"
   ]
  }
 ],
 "metadata": {
  "kernelspec": {
   "display_name": "Python 3",
   "language": "python",
   "name": "python3"
  },
  "language_info": {
   "codemirror_mode": {
    "name": "ipython",
    "version": 3
   },
   "file_extension": ".py",
   "mimetype": "text/x-python",
   "name": "python",
   "nbconvert_exporter": "python",
   "pygments_lexer": "ipython3",
   "version": "3.12.1"
  }
 },
 "nbformat": 4,
 "nbformat_minor": 2
}
