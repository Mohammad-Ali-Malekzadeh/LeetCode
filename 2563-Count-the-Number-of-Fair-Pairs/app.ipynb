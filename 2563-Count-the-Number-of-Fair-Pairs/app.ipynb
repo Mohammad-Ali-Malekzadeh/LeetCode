{
 "cells": [
  {
   "cell_type": "code",
   "execution_count": 7,
   "metadata": {},
   "outputs": [],
   "source": [
    "from datetime import datetime"
   ]
  },
  {
   "cell_type": "code",
   "execution_count": 8,
   "metadata": {},
   "outputs": [],
   "source": [
    "# Test Cases 1\n",
    "nums = [0,1,7,4,4,5]\n",
    "lower = 3\n",
    "upper = 6\n"
   ]
  },
  {
   "cell_type": "code",
   "execution_count": 9,
   "metadata": {},
   "outputs": [],
   "source": [
    "# Test Cases 2\n",
    "nums = [1,7,9,2,5]\n",
    "lower = 11\n",
    "upper = 11"
   ]
  },
  {
   "cell_type": "code",
   "execution_count": 10,
   "metadata": {},
   "outputs": [
    {
     "name": "stdout",
     "output_type": "stream",
     "text": [
      "1\n",
      "Duration: 0:00:00\n"
     ]
    }
   ],
   "source": [
    "start_time = datetime.now()\n",
    "\n",
    "\n",
    "# Code ************ Start\n",
    "from bisect import bisect_left, bisect_right\n",
    "\n",
    "class Solution:\n",
    "    def countFairPairs(nums: list[int], lower: int, upper: int) -> int:\n",
    "        nums.sort()\n",
    "        count = 0\n",
    "        for i in range(len(nums)):\n",
    "            low = lower - nums[i]\n",
    "            high = upper - nums[i]\n",
    "            left = bisect_left(nums, low, i + 1)\n",
    "            right = bisect_right(nums, high, i + 1)\n",
    "            count += right - left\n",
    "        return count\n",
    "\n",
    "\n",
    "# Code ************ End\n",
    "print(Solution.countFairPairs(nums, lower, upper))\n",
    "\n",
    "end_time = datetime.now()\n",
    "print('Duration: {}'.format(end_time - start_time))"
   ]
  },
  {
   "cell_type": "code",
   "execution_count": null,
   "metadata": {},
   "outputs": [],
   "source": []
  }
 ],
 "metadata": {
  "kernelspec": {
   "display_name": "Python 3",
   "language": "python",
   "name": "python3"
  },
  "language_info": {
   "codemirror_mode": {
    "name": "ipython",
    "version": 3
   },
   "file_extension": ".py",
   "mimetype": "text/x-python",
   "name": "python",
   "nbconvert_exporter": "python",
   "pygments_lexer": "ipython3",
   "version": "3.12.1"
  }
 },
 "nbformat": 4,
 "nbformat_minor": 2
}
