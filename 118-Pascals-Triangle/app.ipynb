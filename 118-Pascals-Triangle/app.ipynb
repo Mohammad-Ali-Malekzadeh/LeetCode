{
 "cells": [
  {
   "cell_type": "code",
   "execution_count": 2,
   "metadata": {},
   "outputs": [],
   "source": [
    "from datetime import datetime"
   ]
  },
  {
   "cell_type": "code",
   "execution_count": 9,
   "metadata": {},
   "outputs": [],
   "source": [
    "# Test Cases 1\n",
    "numRows = 5"
   ]
  },
  {
   "cell_type": "code",
   "execution_count": 4,
   "metadata": {},
   "outputs": [],
   "source": [
    "# Test Cases 2\n",
    "numRows = 1"
   ]
  },
  {
   "cell_type": "code",
   "execution_count": 10,
   "metadata": {},
   "outputs": [
    {
     "name": "stdout",
     "output_type": "stream",
     "text": [
      "[[1], [1, 1], [1, 2, 1], [1, 3, 3, 1], [1, 4, 6, 4, 1]]\n",
      "Duration: 0:00:00\n"
     ]
    }
   ],
   "source": [
    "start_time = datetime.now()\n",
    "\n",
    "\n",
    "# Code ************ Start\n",
    "class Solution:\n",
    "    def generate(numRows: int) -> list[list[int]]:\n",
    "        current_row = 0\n",
    "        result = []\n",
    "        # For first list\n",
    "        if len(result) == 0 and numRows != 0:\n",
    "            result.append([1])\n",
    "            numRows -= 1\n",
    "            current_row += 1\n",
    "\n",
    "        if numRows != 0:\n",
    "            # Create List for each of Rows\n",
    "            while numRows > 0:\n",
    "                # First Add 1 to first and last of list\n",
    "                current_row += 1\n",
    "                result.append([1,1])\n",
    "                if len(result[-1]) != current_row:\n",
    "                    # Loop on current row without 1 (first and last)\n",
    "                    result[-1][1:1] = [result[-2][j] + result[-2][j + 1] for j in range(len(result[-2])) if j != len(result[-2]) -1]\n",
    "                numRows -= 1\n",
    "\n",
    "        return result\n",
    "# Code ************ End\n",
    "print(Solution.generate(numRows= numRows))\n",
    "\n",
    "end_time = datetime.now()\n",
    "print('Duration: {}'.format(end_time - start_time))"
   ]
  }
 ],
 "metadata": {
  "kernelspec": {
   "display_name": "Python 3",
   "language": "python",
   "name": "python3"
  },
  "language_info": {
   "codemirror_mode": {
    "name": "ipython",
    "version": 3
   },
   "file_extension": ".py",
   "mimetype": "text/x-python",
   "name": "python",
   "nbconvert_exporter": "python",
   "pygments_lexer": "ipython3",
   "version": "3.12.1"
  }
 },
 "nbformat": 4,
 "nbformat_minor": 2
}
