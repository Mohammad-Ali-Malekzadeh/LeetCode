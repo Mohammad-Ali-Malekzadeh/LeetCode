{
 "cells": [
  {
   "cell_type": "code",
   "execution_count": 5,
   "metadata": {},
   "outputs": [],
   "source": [
    "from datetime import datetime"
   ]
  },
  {
   "cell_type": "code",
   "execution_count": 6,
   "metadata": {},
   "outputs": [],
   "source": [
    "# Test Cases 1\n",
    "nums = [18,43,36,13,7]"
   ]
  },
  {
   "cell_type": "code",
   "execution_count": 7,
   "metadata": {},
   "outputs": [
    {
     "name": "stdout",
     "output_type": "stream",
     "text": [
      "{9: 36, 7: 43, 4: 13}\n",
      "54\n",
      "Duration: 0:00:00.000998\n"
     ]
    }
   ],
   "source": [
    "from typing import List\n",
    "start_time = datetime.now()\n",
    "\n",
    "# Code ************ Start\n",
    "def maximumSum(nums: List[int]) -> int:\n",
    "    def digit_sum(number):\n",
    "        return sum(int(i) for i in str(number))\n",
    "    \n",
    "    digit_sum_map = {}\n",
    "    max_sum = -1\n",
    "    \n",
    "    for index, num in enumerate(nums):\n",
    "        d_sum = digit_sum(num)\n",
    "        if d_sum in digit_sum_map:\n",
    "            # Calculate the sum of the current pair\n",
    "            current_sum = num + digit_sum_map[d_sum]\n",
    "            # Update the maximum sum if the current sum is greater\n",
    "            max_sum = max(max_sum, current_sum)\n",
    "            # Update the stored number if the current number is greater\n",
    "            digit_sum_map[d_sum] = max(digit_sum_map[d_sum], num)\n",
    "        else:\n",
    "            digit_sum_map[d_sum] = num\n",
    "    print(digit_sum_map)\n",
    "    \n",
    "    return max_sum\n",
    "# Code ************ End\n",
    "\n",
    "print(maximumSum(nums))\n",
    "\n",
    "end_time = datetime.now()\n",
    "print('Duration: {}'.format(end_time - start_time))"
   ]
  }
 ],
 "metadata": {
  "kernelspec": {
   "display_name": "Python 3",
   "language": "python",
   "name": "python3"
  },
  "language_info": {
   "codemirror_mode": {
    "name": "ipython",
    "version": 3
   },
   "file_extension": ".py",
   "mimetype": "text/x-python",
   "name": "python",
   "nbconvert_exporter": "python",
   "pygments_lexer": "ipython3",
   "version": "3.12.1"
  }
 },
 "nbformat": 4,
 "nbformat_minor": 2
}
